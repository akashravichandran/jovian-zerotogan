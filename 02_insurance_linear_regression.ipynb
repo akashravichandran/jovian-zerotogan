{
  "nbformat": 4,
  "nbformat_minor": 0,
  "metadata": {
    "kernelspec": {
      "display_name": "Python 3",
      "language": "python",
      "name": "python3"
    },
    "language_info": {
      "codemirror_mode": {
        "name": "ipython",
        "version": 3
      },
      "file_extension": ".py",
      "mimetype": "text/x-python",
      "name": "python",
      "nbconvert_exporter": "python",
      "pygments_lexer": "ipython3",
      "version": "3.6.4"
    },
    "colab": {
      "name": "02-insurance-linear-regression.ipynb",
      "provenance": [],
      "collapsed_sections": [],
      "include_colab_link": true
    }
  },
  "cells": [
    {
      "cell_type": "markdown",
      "metadata": {
        "id": "view-in-github",
        "colab_type": "text"
      },
      "source": [
        "<a href=\"https://colab.research.google.com/github/akashravichandran/jovian-zerotogan/blob/master/02_insurance_linear_regression.ipynb\" target=\"_parent\"><img src=\"https://colab.research.google.com/assets/colab-badge.svg\" alt=\"Open In Colab\"/></a>"
      ]
    },
    {
      "cell_type": "markdown",
      "metadata": {
        "_cell_guid": "b1076dfc-b9ad-4769-8c92-a6c4dae69d19",
        "_uuid": "8f2839f25d086af736a60e9eeb907d3b93b6e0e5",
        "id": "UsRaNjtoH-tz",
        "colab_type": "text"
      },
      "source": [
        "# Insurance cost prediction using linear regression\n",
        "\n",
        "In this assignment we're going to use information like a person's age, sex, BMI, no. of children and smoking habit to predict the price of yearly medical bills. This kind of model is useful for insurance companies to determine the yearly insurance premium for a person. The dataset for this problem is taken from: https://www.kaggle.com/mirichoi0218/insurance\n",
        "\n",
        "\n",
        "We will create a model with the following steps:\n",
        "1. Download and explore the dataset\n",
        "2. Prepare the dataset for training\n",
        "3. Create a linear regression model\n",
        "4. Train the model to fit the data\n",
        "5. Make predictions using the trained model\n",
        "\n",
        "\n",
        "This assignment builds upon the concepts from the first 2 lectures. It will help to review these Jupyter notebooks:\n",
        "- PyTorch basics: https://jovian.ml/aakashns/01-pytorch-basics\n",
        "- Linear Regression: https://jovian.ml/aakashns/02-linear-regression\n",
        "- Logistic Regression: https://jovian.ml/aakashns/03-logistic-regression\n",
        "- Linear regression (minimal): https://jovian.ml/aakashns/housing-linear-minimal\n",
        "- Logistic regression (minimal): https://jovian.ml/aakashns/mnist-logistic-minimal\n",
        "\n",
        "As you go through this notebook, you will find a **???** in certain places. Your job is to replace the **???** with appropriate code or values, to ensure that the notebook runs properly end-to-end . In some cases, you'll be required to choose some hyperparameters (learning rate, batch size etc.). Try to experiment with the hypeparameters to get the lowest loss.\n"
      ]
    },
    {
      "cell_type": "code",
      "metadata": {
        "id": "4xWLc-_bH-t1",
        "colab_type": "code",
        "colab": {}
      },
      "source": [
        "# Uncomment and run the commands below if imports fail\n",
        "# !conda install numpy pytorch torchvision cpuonly -c pytorch -y\n",
        "# !pip install matplotlib --upgrade --quiet\n",
        "# !pip install jovian --upgrade --quiet"
      ],
      "execution_count": null,
      "outputs": []
    },
    {
      "cell_type": "code",
      "metadata": {
        "id": "XlOknkaEH-uB",
        "colab_type": "code",
        "colab": {}
      },
      "source": [
        "import torch\n",
        "import torchvision\n",
        "import torch.nn as nn\n",
        "import pandas as pd\n",
        "import matplotlib.pyplot as plt\n",
        "import torch.nn.functional as F\n",
        "from torchvision.datasets.utils import download_url\n",
        "from torch.utils.data import DataLoader, TensorDataset, random_split"
      ],
      "execution_count": null,
      "outputs": []
    },
    {
      "cell_type": "code",
      "metadata": {
        "id": "mPLiWcMBH-uI",
        "colab_type": "code",
        "colab": {}
      },
      "source": [
        "project_name='02-insurance-linear-regression' # will be used by jovian.commit"
      ],
      "execution_count": null,
      "outputs": []
    },
    {
      "cell_type": "markdown",
      "metadata": {
        "id": "KFTEBbACH-uN",
        "colab_type": "text"
      },
      "source": [
        "## Step 1: Download and explore the data\n",
        "\n",
        "Let us begin by downloading the data. We'll use the `download_url` function from PyTorch to get the data as a CSV (comma-separated values) file. "
      ]
    },
    {
      "cell_type": "code",
      "metadata": {
        "_cell_guid": "79c7e3d0-c299-4dcb-8224-4455121ee9b0",
        "_uuid": "d629ff2d2480ee46fbb7e2d37f6b5fab8052498a",
        "id": "88Dx6gn7H-uO",
        "colab_type": "code",
        "colab": {
          "base_uri": "https://localhost:8080/",
          "height": 33
        },
        "outputId": "ee9f892c-b2bb-4134-a5d2-d3f435f8f238"
      },
      "source": [
        "DATASET_URL = \"https://hub.jovian.ml/wp-content/uploads/2020/05/insurance.csv\"\n",
        "DATA_FILENAME = \"insurance.csv\"\n",
        "download_url(DATASET_URL, '.')"
      ],
      "execution_count": null,
      "outputs": [
        {
          "output_type": "stream",
          "text": [
            "Using downloaded and verified file: ./insurance.csv\n"
          ],
          "name": "stdout"
        }
      ]
    },
    {
      "cell_type": "markdown",
      "metadata": {
        "id": "Bcq_sWJ2H-uX",
        "colab_type": "text"
      },
      "source": [
        "To load the dataset into memory, we'll use the `read_csv` function from the `pandas` library. The data will be loaded as a Pandas dataframe. See this short tutorial to learn more: https://data36.com/pandas-tutorial-1-basics-reading-data-files-dataframes-data-selection/"
      ]
    },
    {
      "cell_type": "code",
      "metadata": {
        "id": "H5dJnaTQH-uZ",
        "colab_type": "code",
        "colab": {
          "base_uri": "https://localhost:8080/",
          "height": 194
        },
        "outputId": "d18921d7-6822-4fbb-ec35-b2f0b86a0a53"
      },
      "source": [
        "dataframe_raw = pd.read_csv(DATA_FILENAME)\n",
        "dataframe_raw.head()"
      ],
      "execution_count": null,
      "outputs": [
        {
          "output_type": "execute_result",
          "data": {
            "text/html": [
              "<div>\n",
              "<style scoped>\n",
              "    .dataframe tbody tr th:only-of-type {\n",
              "        vertical-align: middle;\n",
              "    }\n",
              "\n",
              "    .dataframe tbody tr th {\n",
              "        vertical-align: top;\n",
              "    }\n",
              "\n",
              "    .dataframe thead th {\n",
              "        text-align: right;\n",
              "    }\n",
              "</style>\n",
              "<table border=\"1\" class=\"dataframe\">\n",
              "  <thead>\n",
              "    <tr style=\"text-align: right;\">\n",
              "      <th></th>\n",
              "      <th>age</th>\n",
              "      <th>sex</th>\n",
              "      <th>bmi</th>\n",
              "      <th>children</th>\n",
              "      <th>smoker</th>\n",
              "      <th>region</th>\n",
              "      <th>charges</th>\n",
              "    </tr>\n",
              "  </thead>\n",
              "  <tbody>\n",
              "    <tr>\n",
              "      <th>0</th>\n",
              "      <td>19</td>\n",
              "      <td>female</td>\n",
              "      <td>27.900</td>\n",
              "      <td>0</td>\n",
              "      <td>yes</td>\n",
              "      <td>southwest</td>\n",
              "      <td>16884.92400</td>\n",
              "    </tr>\n",
              "    <tr>\n",
              "      <th>1</th>\n",
              "      <td>18</td>\n",
              "      <td>male</td>\n",
              "      <td>33.770</td>\n",
              "      <td>1</td>\n",
              "      <td>no</td>\n",
              "      <td>southeast</td>\n",
              "      <td>1725.55230</td>\n",
              "    </tr>\n",
              "    <tr>\n",
              "      <th>2</th>\n",
              "      <td>28</td>\n",
              "      <td>male</td>\n",
              "      <td>33.000</td>\n",
              "      <td>3</td>\n",
              "      <td>no</td>\n",
              "      <td>southeast</td>\n",
              "      <td>4449.46200</td>\n",
              "    </tr>\n",
              "    <tr>\n",
              "      <th>3</th>\n",
              "      <td>33</td>\n",
              "      <td>male</td>\n",
              "      <td>22.705</td>\n",
              "      <td>0</td>\n",
              "      <td>no</td>\n",
              "      <td>northwest</td>\n",
              "      <td>21984.47061</td>\n",
              "    </tr>\n",
              "    <tr>\n",
              "      <th>4</th>\n",
              "      <td>32</td>\n",
              "      <td>male</td>\n",
              "      <td>28.880</td>\n",
              "      <td>0</td>\n",
              "      <td>no</td>\n",
              "      <td>northwest</td>\n",
              "      <td>3866.85520</td>\n",
              "    </tr>\n",
              "  </tbody>\n",
              "</table>\n",
              "</div>"
            ],
            "text/plain": [
              "   age     sex     bmi  children smoker     region      charges\n",
              "0   19  female  27.900         0    yes  southwest  16884.92400\n",
              "1   18    male  33.770         1     no  southeast   1725.55230\n",
              "2   28    male  33.000         3     no  southeast   4449.46200\n",
              "3   33    male  22.705         0     no  northwest  21984.47061\n",
              "4   32    male  28.880         0     no  northwest   3866.85520"
            ]
          },
          "metadata": {
            "tags": []
          },
          "execution_count": 60
        }
      ]
    },
    {
      "cell_type": "markdown",
      "metadata": {
        "id": "y12C9hghH-ue",
        "colab_type": "text"
      },
      "source": [
        "We're going to do a slight customization of the data, so that you every participant receives a slightly different version of the dataset. Fill in your name below as a string (enter at least 5 characters)"
      ]
    },
    {
      "cell_type": "code",
      "metadata": {
        "id": "zVPr_JU6H-uf",
        "colab_type": "code",
        "colab": {}
      },
      "source": [
        "your_name = 'akashravichandran' # at least 5 characters"
      ],
      "execution_count": null,
      "outputs": []
    },
    {
      "cell_type": "markdown",
      "metadata": {
        "id": "PDHivJX-H-um",
        "colab_type": "text"
      },
      "source": [
        "The `customize_dataset` function will customize the dataset slightly using your name as a source of random numbers."
      ]
    },
    {
      "cell_type": "code",
      "metadata": {
        "id": "R4JPWbKuH-up",
        "colab_type": "code",
        "colab": {}
      },
      "source": [
        "def customize_dataset(dataframe_raw, rand_str):\n",
        "    dataframe = dataframe_raw.copy(deep=True)\n",
        "    # drop some rows\n",
        "    dataframe = dataframe.sample(int(0.95*len(dataframe)), random_state=int(ord(rand_str[0])))\n",
        "    # scale input\n",
        "    dataframe.bmi = dataframe.bmi * ord(rand_str[1])/100.\n",
        "    # scale target\n",
        "    dataframe.charges = dataframe.charges * ord(rand_str[2])/100.\n",
        "    # drop column\n",
        "    if ord(rand_str[3]) % 2 == 1:\n",
        "        dataframe = dataframe.drop(['region'], axis=1)\n",
        "    return dataframe"
      ],
      "execution_count": null,
      "outputs": []
    },
    {
      "cell_type": "code",
      "metadata": {
        "id": "6dls2zscH-uv",
        "colab_type": "code",
        "colab": {
          "base_uri": "https://localhost:8080/",
          "height": 194
        },
        "outputId": "8209634d-881f-4801-da8e-d6d72e4d32b3"
      },
      "source": [
        "dataframe = customize_dataset(dataframe_raw, your_name)\n",
        "dataframe.head()"
      ],
      "execution_count": null,
      "outputs": [
        {
          "output_type": "execute_result",
          "data": {
            "text/html": [
              "<div>\n",
              "<style scoped>\n",
              "    .dataframe tbody tr th:only-of-type {\n",
              "        vertical-align: middle;\n",
              "    }\n",
              "\n",
              "    .dataframe tbody tr th {\n",
              "        vertical-align: top;\n",
              "    }\n",
              "\n",
              "    .dataframe thead th {\n",
              "        text-align: right;\n",
              "    }\n",
              "</style>\n",
              "<table border=\"1\" class=\"dataframe\">\n",
              "  <thead>\n",
              "    <tr style=\"text-align: right;\">\n",
              "      <th></th>\n",
              "      <th>age</th>\n",
              "      <th>sex</th>\n",
              "      <th>bmi</th>\n",
              "      <th>children</th>\n",
              "      <th>smoker</th>\n",
              "      <th>charges</th>\n",
              "    </tr>\n",
              "  </thead>\n",
              "  <tbody>\n",
              "    <tr>\n",
              "      <th>27</th>\n",
              "      <td>55</td>\n",
              "      <td>female</td>\n",
              "      <td>35.06925</td>\n",
              "      <td>2</td>\n",
              "      <td>no</td>\n",
              "      <td>11900.573282</td>\n",
              "    </tr>\n",
              "    <tr>\n",
              "      <th>997</th>\n",
              "      <td>63</td>\n",
              "      <td>female</td>\n",
              "      <td>39.42950</td>\n",
              "      <td>0</td>\n",
              "      <td>no</td>\n",
              "      <td>13471.329445</td>\n",
              "    </tr>\n",
              "    <tr>\n",
              "      <th>162</th>\n",
              "      <td>54</td>\n",
              "      <td>male</td>\n",
              "      <td>42.37200</td>\n",
              "      <td>1</td>\n",
              "      <td>no</td>\n",
              "      <td>10137.035440</td>\n",
              "    </tr>\n",
              "    <tr>\n",
              "      <th>824</th>\n",
              "      <td>60</td>\n",
              "      <td>male</td>\n",
              "      <td>26.02240</td>\n",
              "      <td>0</td>\n",
              "      <td>no</td>\n",
              "      <td>12147.896656</td>\n",
              "    </tr>\n",
              "    <tr>\n",
              "      <th>392</th>\n",
              "      <td>48</td>\n",
              "      <td>male</td>\n",
              "      <td>33.64615</td>\n",
              "      <td>1</td>\n",
              "      <td>no</td>\n",
              "      <td>8695.138733</td>\n",
              "    </tr>\n",
              "  </tbody>\n",
              "</table>\n",
              "</div>"
            ],
            "text/plain": [
              "     age     sex       bmi  children smoker       charges\n",
              "27    55  female  35.06925         2     no  11900.573282\n",
              "997   63  female  39.42950         0     no  13471.329445\n",
              "162   54    male  42.37200         1     no  10137.035440\n",
              "824   60    male  26.02240         0     no  12147.896656\n",
              "392   48    male  33.64615         1     no   8695.138733"
            ]
          },
          "metadata": {
            "tags": []
          },
          "execution_count": 63
        }
      ]
    },
    {
      "cell_type": "markdown",
      "metadata": {
        "id": "ygeugZ9JH-u0",
        "colab_type": "text"
      },
      "source": [
        "Let us answer some basic questions about the dataset. \n",
        "\n",
        "\n",
        "**Q: How many rows does the dataset have?**"
      ]
    },
    {
      "cell_type": "code",
      "metadata": {
        "id": "OGeB400BH-u1",
        "colab_type": "code",
        "colab": {
          "base_uri": "https://localhost:8080/",
          "height": 33
        },
        "outputId": "46b02a87-19ae-4b8b-b498-e1850c9b9815"
      },
      "source": [
        "num_rows = len(dataframe)\n",
        "print(num_rows)"
      ],
      "execution_count": null,
      "outputs": [
        {
          "output_type": "stream",
          "text": [
            "1271\n"
          ],
          "name": "stdout"
        }
      ]
    },
    {
      "cell_type": "markdown",
      "metadata": {
        "id": "ZTbaR8yGH-u7",
        "colab_type": "text"
      },
      "source": [
        "**Q: How many columns doe the dataset have**"
      ]
    },
    {
      "cell_type": "code",
      "metadata": {
        "id": "Evg1pMQuH-u8",
        "colab_type": "code",
        "colab": {
          "base_uri": "https://localhost:8080/",
          "height": 33
        },
        "outputId": "f023520f-afdb-4dbb-a843-ce293f83ccc3"
      },
      "source": [
        "num_cols = len(dataframe.columns)\n",
        "print(num_cols)"
      ],
      "execution_count": null,
      "outputs": [
        {
          "output_type": "stream",
          "text": [
            "6\n"
          ],
          "name": "stdout"
        }
      ]
    },
    {
      "cell_type": "markdown",
      "metadata": {
        "id": "AtxQAOcMH-vD",
        "colab_type": "text"
      },
      "source": [
        "**Q: What are the column titles of the input variables?**"
      ]
    },
    {
      "cell_type": "code",
      "metadata": {
        "id": "vlnHi7t5H-vE",
        "colab_type": "code",
        "colab": {}
      },
      "source": [
        "input_cols = [x for x in dataframe.columns if x != 'charges']"
      ],
      "execution_count": null,
      "outputs": []
    },
    {
      "cell_type": "code",
      "metadata": {
        "id": "R39YbW8RH-vL",
        "colab_type": "code",
        "colab": {
          "base_uri": "https://localhost:8080/",
          "height": 33
        },
        "outputId": "a547e4d1-8454-4090-a6b1-e141730ca8a5"
      },
      "source": [
        "input_cols"
      ],
      "execution_count": null,
      "outputs": [
        {
          "output_type": "execute_result",
          "data": {
            "text/plain": [
              "['age', 'sex', 'bmi', 'children', 'smoker']"
            ]
          },
          "metadata": {
            "tags": []
          },
          "execution_count": 67
        }
      ]
    },
    {
      "cell_type": "markdown",
      "metadata": {
        "id": "z1rahzYBH-vS",
        "colab_type": "text"
      },
      "source": [
        "**Q: Which of the input columns are non-numeric or categorial variables ?**\n",
        "\n",
        "Hint: `sex` is one of them. List the columns that are not numbers."
      ]
    },
    {
      "cell_type": "code",
      "metadata": {
        "id": "aHNDW0rvH-vT",
        "colab_type": "code",
        "colab": {}
      },
      "source": [
        "categorical_cols = [x for x in dataframe.columns if dataframe[x].dtype == object]"
      ],
      "execution_count": null,
      "outputs": []
    },
    {
      "cell_type": "code",
      "metadata": {
        "id": "VShWfzpVH-vY",
        "colab_type": "code",
        "colab": {
          "base_uri": "https://localhost:8080/",
          "height": 33
        },
        "outputId": "86436670-1caa-43d5-90db-f7c082f99387"
      },
      "source": [
        "categorical_cols"
      ],
      "execution_count": null,
      "outputs": [
        {
          "output_type": "execute_result",
          "data": {
            "text/plain": [
              "['sex', 'smoker']"
            ]
          },
          "metadata": {
            "tags": []
          },
          "execution_count": 69
        }
      ]
    },
    {
      "cell_type": "markdown",
      "metadata": {
        "id": "7Rz1yhpXH-vd",
        "colab_type": "text"
      },
      "source": [
        "**Q: What are the column titles of output/target variable(s)?**"
      ]
    },
    {
      "cell_type": "code",
      "metadata": {
        "id": "M8kQM7ZHH-ve",
        "colab_type": "code",
        "colab": {}
      },
      "source": [
        "output_cols = [x for x in dataframe.columns if x == 'charges']"
      ],
      "execution_count": null,
      "outputs": []
    },
    {
      "cell_type": "code",
      "metadata": {
        "id": "Sqgr1aKcH-vm",
        "colab_type": "code",
        "colab": {
          "base_uri": "https://localhost:8080/",
          "height": 33
        },
        "outputId": "6d5b2ff4-9b6e-4053-d70c-0ceba30920e2"
      },
      "source": [
        "output_cols"
      ],
      "execution_count": null,
      "outputs": [
        {
          "output_type": "execute_result",
          "data": {
            "text/plain": [
              "['charges']"
            ]
          },
          "metadata": {
            "tags": []
          },
          "execution_count": 71
        }
      ]
    },
    {
      "cell_type": "markdown",
      "metadata": {
        "id": "TLL9mD4XH-vu",
        "colab_type": "text"
      },
      "source": [
        "**Q: (Optional) What is the minimum, maximum and average value of the `charges` column? Can you show the distribution of values in a graph?**\n",
        "Use this data visualization cheatsheet for referece: https://jovian.ml/aakashns/dataviz-cheatsheet"
      ]
    },
    {
      "cell_type": "code",
      "metadata": {
        "id": "eJmnF6fzH-vv",
        "colab_type": "code",
        "colab": {
          "base_uri": "https://localhost:8080/",
          "height": 168
        },
        "outputId": "1091f80b-3875-4518-9f5a-83a3fe4b668d"
      },
      "source": [
        "# Write your answer here\n",
        "dataframe['charges'].describe()"
      ],
      "execution_count": null,
      "outputs": [
        {
          "output_type": "execute_result",
          "data": {
            "text/plain": [
              "count     1271.000000\n",
              "mean     12914.769447\n",
              "std      11804.448766\n",
              "min       1088.217683\n",
              "25%       4609.782798\n",
              "50%       9109.605620\n",
              "75%      15959.702237\n",
              "max      61857.315170\n",
              "Name: charges, dtype: float64"
            ]
          },
          "metadata": {
            "tags": []
          },
          "execution_count": 72
        }
      ]
    },
    {
      "cell_type": "code",
      "metadata": {
        "id": "sxWQgbaGH-v2",
        "colab_type": "code",
        "colab": {}
      },
      "source": [
        "# Import libraries\n",
        "import matplotlib\n",
        "import matplotlib.pyplot as plt\n",
        "import seaborn as sns"
      ],
      "execution_count": null,
      "outputs": []
    },
    {
      "cell_type": "code",
      "metadata": {
        "id": "C8BkGCqiH-wA",
        "colab_type": "code",
        "colab": {}
      },
      "source": [
        "# Configuring styles\n",
        "sns.set_style(\"darkgrid\")\n",
        "matplotlib.rcParams['font.size'] = 14\n",
        "matplotlib.rcParams['figure.figsize'] = (9, 5)\n",
        "matplotlib.rcParams['figure.facecolor'] = '#00000000'"
      ],
      "execution_count": null,
      "outputs": []
    },
    {
      "cell_type": "code",
      "metadata": {
        "id": "O0RJnXPuH-wH",
        "colab_type": "code",
        "colab": {
          "base_uri": "https://localhost:8080/",
          "height": 362
        },
        "outputId": "d3f7f473-f8b4-4ddc-da96-b79872d60fb4"
      },
      "source": [
        "plt.title(\"Distribution of Charges\")\n",
        "\n",
        "sns.distplot(dataframe.charges);"
      ],
      "execution_count": null,
      "outputs": [
        {
          "output_type": "display_data",
          "data": {
            "image/png": "[encoded data removed]",
            "text/plain": [
              "<Figure size 648x360 with 1 Axes>"
            ]
          },
          "metadata": {
            "tags": [],
            "needs_background": "light"
          }
        }
      ]
    },
    {
      "cell_type": "markdown",
      "metadata": {
        "id": "26NRA6cfH-wR",
        "colab_type": "text"
      },
      "source": [
        "Remember to commit your notebook to Jovian after every step, so that you don't lose your work."
      ]
    },
    {
      "cell_type": "code",
      "metadata": {
        "id": "-5YgGJEyH-wS",
        "colab_type": "code",
        "colab": {}
      },
      "source": [
        "# jovian.commit(project=project_name, environment=None)"
      ],
      "execution_count": null,
      "outputs": []
    },
    {
      "cell_type": "markdown",
      "metadata": {
        "id": "QUrKzH9MH-wa",
        "colab_type": "text"
      },
      "source": [
        "## Step 2: Prepare the dataset for training\n",
        "\n",
        "We need to convert the data from the Pandas dataframe into a PyTorch tensors for training. To do this, the first step is to convert it numpy arrays. If you've filled out `input_cols`, `categorial_cols` and `output_cols` correctly, this following function will perform the conversion to numpy arrays."
      ]
    },
    {
      "cell_type": "code",
      "metadata": {
        "id": "37aocFIuH-wc",
        "colab_type": "code",
        "colab": {}
      },
      "source": [
        "def dataframe_to_arrays(dataframe):\n",
        "    # Make a copy of the original dataframe\n",
        "    dataframe1 = dataframe.copy(deep=True)\n",
        "    # Convert non-numeric categorical columns to numbers\n",
        "    for col in categorical_cols:\n",
        "        dataframe1[col] = dataframe1[col].astype('category').cat.codes\n",
        "    # Extract input & outupts as numpy arrays\n",
        "    inputs_array = dataframe1[input_cols].to_numpy()\n",
        "    targets_array = dataframe1[output_cols].to_numpy()\n",
        "    return inputs_array, targets_array"
      ],
      "execution_count": null,
      "outputs": []
    },
    {
      "cell_type": "markdown",
      "metadata": {
        "id": "y_MnBUwKH-wk",
        "colab_type": "text"
      },
      "source": [
        "Read through the [Pandas documentation](https://pandas.pydata.org/pandas-docs/stable/user_guide/categorical.html) to understand how we're converting categorical variables into numbers."
      ]
    },
    {
      "cell_type": "code",
      "metadata": {
        "id": "q4URxEveH-wl",
        "colab_type": "code",
        "colab": {
          "base_uri": "https://localhost:8080/",
          "height": 252
        },
        "outputId": "8be30956-30b4-497a-ae29-27537681a7f3"
      },
      "source": [
        "inputs_array, targets_array = dataframe_to_arrays(dataframe)\n",
        "inputs_array, targets_array"
      ],
      "execution_count": null,
      "outputs": [
        {
          "output_type": "execute_result",
          "data": {
            "text/plain": [
              "(array([[55.     ,  0.     , 35.06925,  2.     ,  0.     ],\n",
              "        [63.     ,  0.     , 39.4295 ,  0.     ,  0.     ],\n",
              "        [54.     ,  1.     , 42.372  ,  1.     ,  0.     ],\n",
              "        ...,\n",
              "        [58.     ,  1.     , 34.2507 ,  1.     ,  0.     ],\n",
              "        [32.     ,  0.     , 47.3154 ,  0.     ,  0.     ],\n",
              "        [35.     ,  1.     , 19.1102 ,  1.     ,  0.     ]]),\n",
              " array([[11900.5732825],\n",
              "        [13471.329445 ],\n",
              "        [10137.03544  ],\n",
              "        ...,\n",
              "        [11588.227123 ],\n",
              "        [ 3874.352466 ],\n",
              "        [ 4963.005388 ]]))"
            ]
          },
          "metadata": {
            "tags": []
          },
          "execution_count": 78
        }
      ]
    },
    {
      "cell_type": "markdown",
      "metadata": {
        "id": "Rq2nZFLEH-wv",
        "colab_type": "text"
      },
      "source": [
        "**Q: Convert the numpy arrays `inputs_array` and `targets_array` into PyTorch tensors. Make sure that the data type is `torch.float32`.**"
      ]
    },
    {
      "cell_type": "code",
      "metadata": {
        "id": "847q0jGNH-wz",
        "colab_type": "code",
        "colab": {}
      },
      "source": [
        "inputs = torch.Tensor(inputs_array)\n",
        "targets = torch.Tensor(targets_array)"
      ],
      "execution_count": null,
      "outputs": []
    },
    {
      "cell_type": "code",
      "metadata": {
        "id": "Gt3pGySqH-xA",
        "colab_type": "code",
        "colab": {
          "base_uri": "https://localhost:8080/",
          "height": 33
        },
        "outputId": "562915e7-f7f7-4b8f-d8c0-2ab9901cd323"
      },
      "source": [
        "inputs.dtype, targets.dtype"
      ],
      "execution_count": null,
      "outputs": [
        {
          "output_type": "execute_result",
          "data": {
            "text/plain": [
              "(torch.float32, torch.float32)"
            ]
          },
          "metadata": {
            "tags": []
          },
          "execution_count": 80
        }
      ]
    },
    {
      "cell_type": "markdown",
      "metadata": {
        "id": "R_EaOV37H-xI",
        "colab_type": "text"
      },
      "source": [
        "Next, we need to create PyTorch datasets & data loaders for training & validation. We'll start by creating a `TensorDataset`."
      ]
    },
    {
      "cell_type": "code",
      "metadata": {
        "id": "j47uKysLH-xK",
        "colab_type": "code",
        "colab": {}
      },
      "source": [
        "dataset = TensorDataset(inputs, targets)"
      ],
      "execution_count": null,
      "outputs": []
    },
    {
      "cell_type": "markdown",
      "metadata": {
        "id": "DBQiWyMCH-xP",
        "colab_type": "text"
      },
      "source": [
        "**Q: Pick a number between `0.1` and `0.2` to determine the fraction of data that will be used for creating the validation set. Then use `random_split` to create training & validation datasets. **"
      ]
    },
    {
      "cell_type": "code",
      "metadata": {
        "id": "ueNuoA0iH-xQ",
        "colab_type": "code",
        "colab": {}
      },
      "source": [
        "from torch.utils.data import random_split\n",
        "\n",
        "val_percent = 0.2 # between 0.1 and 0.2\n",
        "val_size = int(num_rows * val_percent)\n",
        "train_size = num_rows - val_size\n",
        "\n",
        "\n",
        "train_ds, val_ds = random_split(dataset, [train_size, val_size]) # Use the random_split function to split dataset into 2 parts of the desired length"
      ],
      "execution_count": null,
      "outputs": []
    },
    {
      "cell_type": "markdown",
      "metadata": {
        "id": "nhSupkFtH-xV",
        "colab_type": "text"
      },
      "source": [
        "Finally, we can create data loaders for training & validation.\n",
        "\n",
        "**Q: Pick a batch size for the data loader.**"
      ]
    },
    {
      "cell_type": "code",
      "metadata": {
        "id": "9R7IhmgcH-xW",
        "colab_type": "code",
        "colab": {}
      },
      "source": [
        "batch_size = 64"
      ],
      "execution_count": null,
      "outputs": []
    },
    {
      "cell_type": "code",
      "metadata": {
        "id": "fEx9xUtOH-xg",
        "colab_type": "code",
        "colab": {}
      },
      "source": [
        "train_loader = DataLoader(train_ds, batch_size, shuffle=True)\n",
        "val_loader = DataLoader(val_ds, batch_size)"
      ],
      "execution_count": null,
      "outputs": []
    },
    {
      "cell_type": "markdown",
      "metadata": {
        "id": "xznTxy6cH-xl",
        "colab_type": "text"
      },
      "source": [
        "Let's look at a batch of data to verify everything is working fine so far."
      ]
    },
    {
      "cell_type": "code",
      "metadata": {
        "id": "a0CugKPvH-xl",
        "colab_type": "code",
        "colab": {
          "base_uri": "https://localhost:8080/",
          "height": 1000
        },
        "outputId": "019bd2d1-285c-4941-c202-e766fa21e174"
      },
      "source": [
        "for xb, yb in train_loader:\n",
        "    print(\"inputs:\", xb)\n",
        "    print(\"targets:\", yb)\n",
        "    break"
      ],
      "execution_count": null,
      "outputs": [
        {
          "output_type": "stream",
          "text": [
            "inputs: tensor([[59.0000,  1.0000, 39.6970,  1.0000,  0.0000],\n",
            "        [60.0000,  1.0000, 30.9230,  0.0000,  0.0000],\n",
            "        [51.0000,  1.0000, 34.5610,  1.0000,  0.0000],\n",
            "        [50.0000,  1.0000, 29.3769,  1.0000,  0.0000],\n",
            "        [19.0000,  1.0000, 21.8547,  0.0000,  0.0000],\n",
            "        [19.0000,  0.0000, 29.8851,  3.0000,  0.0000],\n",
            "        [57.0000,  0.0000, 25.6586,  1.0000,  0.0000],\n",
            "        [58.0000,  0.0000, 35.4170,  0.0000,  0.0000],\n",
            "        [32.0000,  0.0000, 31.8860,  2.0000,  0.0000],\n",
            "        [61.0000,  0.0000, 38.9319,  1.0000,  1.0000],\n",
            "        [64.0000,  0.0000, 41.7835,  3.0000,  0.0000],\n",
            "        [48.0000,  0.0000, 35.4277,  0.0000,  1.0000],\n",
            "        [22.0000,  1.0000, 40.2534,  1.0000,  1.0000],\n",
            "        [58.0000,  0.0000, 24.3639,  0.0000,  0.0000],\n",
            "        [40.0000,  0.0000, 29.3180,  1.0000,  0.0000],\n",
            "        [55.0000,  0.0000, 27.1406,  3.0000,  0.0000],\n",
            "        [64.0000,  1.0000, 25.4232,  0.0000,  1.0000],\n",
            "        [35.0000,  0.0000, 38.3702,  2.0000,  0.0000],\n",
            "        [23.0000,  1.0000, 25.5142,  0.0000,  0.0000],\n",
            "        [24.0000,  0.0000, 24.8347,  0.0000,  0.0000],\n",
            "        [46.0000,  1.0000, 35.7808,  1.0000,  0.0000],\n",
            "        [30.0000,  0.0000, 46.1384,  2.0000,  0.0000],\n",
            "        [25.0000,  0.0000, 34.4861,  1.0000,  0.0000],\n",
            "        [55.0000,  0.0000, 28.6760,  1.0000,  0.0000],\n",
            "        [63.0000,  1.0000, 42.5860,  3.0000,  0.0000],\n",
            "        [54.0000,  1.0000, 32.1214,  0.0000,  0.0000],\n",
            "        [34.0000,  0.0000, 31.3082,  3.0000,  0.0000],\n",
            "        [51.0000,  0.0000, 36.4870,  0.0000,  0.0000],\n",
            "        [26.0000,  0.0000, 18.3986,  2.0000,  1.0000],\n",
            "        [33.0000,  0.0000, 45.9458,  3.0000,  0.0000],\n",
            "        [22.0000,  1.0000, 39.6649,  2.0000,  1.0000],\n",
            "        [62.0000,  1.0000, 33.6622,  1.0000,  0.0000],\n",
            "        [43.0000,  0.0000, 21.4482,  2.0000,  1.0000],\n",
            "        [19.0000,  0.0000, 30.2810,  0.0000,  1.0000],\n",
            "        [51.0000,  1.0000, 42.4790,  1.0000,  0.0000],\n",
            "        [19.0000,  0.0000, 34.7643,  0.0000,  1.0000],\n",
            "        [51.0000,  0.0000, 36.2891,  0.0000,  0.0000],\n",
            "        [64.0000,  1.0000, 40.8633,  0.0000,  0.0000],\n",
            "        [41.0000,  1.0000, 23.3046,  1.0000,  0.0000],\n",
            "        [19.0000,  0.0000, 34.0527,  1.0000,  0.0000],\n",
            "        [27.0000,  1.0000, 33.3091,  1.0000,  1.0000],\n",
            "        [47.0000,  1.0000, 38.7340,  1.0000,  0.0000],\n",
            "        [51.0000,  1.0000, 23.9894,  0.0000,  0.0000],\n",
            "        [26.0000,  1.0000, 31.1905,  1.0000,  0.0000],\n",
            "        [59.0000,  0.0000, 39.0764,  1.0000,  0.0000],\n",
            "        [52.0000,  0.0000, 33.9511,  2.0000,  0.0000],\n",
            "        [41.0000,  1.0000, 38.2525,  1.0000,  1.0000],\n",
            "        [64.0000,  1.0000, 36.9150,  0.0000,  0.0000],\n",
            "        [57.0000,  0.0000, 30.7999,  4.0000,  0.0000],\n",
            "        [29.0000,  0.0000, 26.3220,  2.0000,  0.0000],\n",
            "        [26.0000,  0.0000, 30.7999,  0.0000,  0.0000],\n",
            "        [48.0000,  0.0000, 44.1161,  4.0000,  0.0000],\n",
            "        [55.0000,  1.0000, 29.5802,  0.0000,  0.0000],\n",
            "        [53.0000,  1.0000, 36.4924,  0.0000,  1.0000],\n",
            "        [23.0000,  0.0000, 30.4843,  1.0000,  1.0000],\n",
            "        [28.0000,  0.0000, 18.5003,  0.0000,  0.0000],\n",
            "        [50.0000,  1.0000, 28.4620,  0.0000,  0.0000],\n",
            "        [62.0000,  1.0000, 34.3577,  0.0000,  0.0000],\n",
            "        [47.0000,  0.0000, 31.4259,  1.0000,  0.0000],\n",
            "        [45.0000,  0.0000, 40.9650,  0.0000,  0.0000],\n",
            "        [43.0000,  1.0000, 29.2752,  3.0000,  0.0000],\n",
            "        [22.0000,  0.0000, 30.0135,  0.0000,  0.0000],\n",
            "        [37.0000,  1.0000, 26.0224,  2.0000,  0.0000],\n",
            "        [52.0000,  0.0000, 27.0710,  2.0000,  1.0000]])\n",
            "targets: tensor([[11976.7568],\n",
            "        [11782.5615],\n",
            "        [ 9665.1387],\n",
            "        [ 9329.1328],\n",
            "        [ 1576.6708],\n",
            "        [18273.5430],\n",
            "        [21526.6641],\n",
            "        [11492.6963],\n",
            "        [ 4997.5698],\n",
            "        [47062.0352],\n",
            "        [15602.5732],\n",
            "        [39744.9414],\n",
            "        [36050.2070],\n",
            "        [11478.7686],\n",
            "        [ 6301.9795],\n",
            "        [12655.9121],\n",
            "        [26118.7188],\n",
            "        [ 5661.4248],\n",
            "        [ 2323.3164],\n",
            "        [24329.3145],\n",
            "        [ 8084.5518],\n",
            "        [ 4611.0278],\n",
            "        [17671.6172],\n",
            "        [34105.3320],\n",
            "        [14714.9668],\n",
            "        [23742.1836],\n",
            "        [ 5998.7705],\n",
            "        [ 9005.0547],\n",
            "        [14021.9746],\n",
            "        [ 6170.1636],\n",
            "        [36359.9141],\n",
            "        [26190.9551],\n",
            "        [19204.1133],\n",
            "        [16568.6484],\n",
            "        [ 9109.6055],\n",
            "        [35791.7695],\n",
            "        [ 9570.3154],\n",
            "        [13978.6045],\n",
            "        [ 6084.3027],\n",
            "        [ 2637.7014],\n",
            "        [33762.2734],\n",
            "        [ 7826.1396],\n",
            "        [ 9080.4873],\n",
            "        [ 2815.8193],\n",
            "        [27439.2598],\n",
            "        [10852.0273],\n",
            "        [39065.4375],\n",
            "        [13408.1191],\n",
            "        [13962.5664],\n",
            "        [ 4393.5928],\n",
            "        [ 3283.8372],\n",
            "        [10702.6514],\n",
            "        [10276.6660],\n",
            "        [41956.7852],\n",
            "        [17778.3906],\n",
            "        [ 3620.6462],\n",
            "        [ 8191.1396],\n",
            "        [13148.3545],\n",
            "        [ 8291.2607],\n",
            "        [ 7697.2324],\n",
            "        [ 8348.0312],\n",
            "        [ 2091.0110],\n",
            "        [ 6012.7891],\n",
            "        [23927.3965]])\n"
          ],
          "name": "stdout"
        }
      ]
    },
    {
      "cell_type": "markdown",
      "metadata": {
        "id": "GyfJbbLuH-xp",
        "colab_type": "text"
      },
      "source": [
        "Let's save our work by committing to Jovian."
      ]
    },
    {
      "cell_type": "code",
      "metadata": {
        "id": "txUKOcHIH-xq",
        "colab_type": "code",
        "colab": {}
      },
      "source": [
        "# jovian.commit(project=project_name, environment=None)"
      ],
      "execution_count": null,
      "outputs": []
    },
    {
      "cell_type": "markdown",
      "metadata": {
        "id": "sr6EtSafH-xv",
        "colab_type": "text"
      },
      "source": [
        "## Step 3: Create a Linear Regression Model\n",
        "\n",
        "Our model itself is a fairly straightforward linear regression (we'll build more complex models in the next assignment). \n"
      ]
    },
    {
      "cell_type": "code",
      "metadata": {
        "id": "HM6EvCubH-xw",
        "colab_type": "code",
        "colab": {}
      },
      "source": [
        "input_size = len(input_cols)\n",
        "output_size = len(output_cols)"
      ],
      "execution_count": null,
      "outputs": []
    },
    {
      "cell_type": "code",
      "metadata": {
        "id": "mv2k-MFbH-x4",
        "colab_type": "code",
        "colab": {
          "base_uri": "https://localhost:8080/",
          "height": 33
        },
        "outputId": "f6613a7a-0483-43cd-aee3-1c67a335cc8b"
      },
      "source": [
        "input_size, output_size"
      ],
      "execution_count": null,
      "outputs": [
        {
          "output_type": "execute_result",
          "data": {
            "text/plain": [
              "(5, 1)"
            ]
          },
          "metadata": {
            "tags": []
          },
          "execution_count": 88
        }
      ]
    },
    {
      "cell_type": "markdown",
      "metadata": {
        "id": "15cnVWqdH-yB",
        "colab_type": "text"
      },
      "source": [
        "**Q: Complete the class definition below by filling out the constructor (`__init__`), `forward`, `training_step` and `validation_step` methods.**\n",
        "\n",
        "Hint: Think carefully about picking a good loss fuction (it's not cross entropy). Maybe try 2-3 of them and see which one works best. See https://pytorch.org/docs/stable/nn.functional.html#loss-functions"
      ]
    },
    {
      "cell_type": "code",
      "metadata": {
        "id": "LsYrHgImH-yD",
        "colab_type": "code",
        "colab": {}
      },
      "source": [
        "class InsuranceModel(nn.Module):\n",
        "    def __init__(self):\n",
        "        super().__init__()\n",
        "        self.linear = nn.Linear(input_size, output_size)                 # fill this (hint: use input_size & output_size defined above)\n",
        "        \n",
        "    def forward(self, xb):\n",
        "        out = self.linear(xb)                          # fill this\n",
        "        return out\n",
        "    \n",
        "    def training_step(self, batch):\n",
        "        inputs, targets = batch \n",
        "        # Generate predictions\n",
        "        out = self(inputs)          \n",
        "        # Calcuate loss\n",
        "        loss = F.smooth_l1_loss(out, targets)                          # fill this\n",
        "        return loss\n",
        "    \n",
        "    def validation_step(self, batch):\n",
        "        inputs, targets = batch\n",
        "        # Generate predictions\n",
        "        out = self(inputs)\n",
        "        # Calculate loss\n",
        "        loss = F.smooth_l1_loss(out, targets)                            # fill this    \n",
        "        return {'val_loss': loss.detach()}\n",
        "        \n",
        "    def validation_epoch_end(self, outputs):\n",
        "        batch_losses = [x['val_loss'] for x in outputs]\n",
        "        epoch_loss = torch.stack(batch_losses).mean()   # Combine losses\n",
        "        return {'val_loss': epoch_loss.item()}\n",
        "    \n",
        "    def epoch_end(self, epoch, result, num_epochs):\n",
        "        # Print result every 20th epoch\n",
        "        if (epoch+1) % 20 == 0 or epoch == num_epochs-1:\n",
        "            print(\"Epoch [{}], val_loss: {:.4f}\".format(epoch+1, result['val_loss']))"
      ],
      "execution_count": null,
      "outputs": []
    },
    {
      "cell_type": "markdown",
      "metadata": {
        "id": "_eTpHTblH-yK",
        "colab_type": "text"
      },
      "source": [
        "Let us create a model using the `InsuranceModel` class. You may need to come back later and re-run the next cell to reinitialize the model, in case the loss becomes `nan` or `infinity`."
      ]
    },
    {
      "cell_type": "code",
      "metadata": {
        "id": "QOcSKkxsH-yK",
        "colab_type": "code",
        "colab": {}
      },
      "source": [
        "model = InsuranceModel()"
      ],
      "execution_count": null,
      "outputs": []
    },
    {
      "cell_type": "markdown",
      "metadata": {
        "id": "pZ_iBtDBH-yP",
        "colab_type": "text"
      },
      "source": [
        "Let's check out the weights and biases of the model using `model.parameters`."
      ]
    },
    {
      "cell_type": "code",
      "metadata": {
        "id": "kGnerERNH-yP",
        "colab_type": "code",
        "colab": {
          "base_uri": "https://localhost:8080/",
          "height": 84
        },
        "outputId": "071df5f7-eb48-4124-aa10-eca3026a6ccf"
      },
      "source": [
        "list(model.parameters())"
      ],
      "execution_count": null,
      "outputs": [
        {
          "output_type": "execute_result",
          "data": {
            "text/plain": [
              "[Parameter containing:\n",
              " tensor([[0.4147, 0.1903, 0.0482, 0.2868, 0.0063]], requires_grad=True),\n",
              " Parameter containing:\n",
              " tensor([-0.0646], requires_grad=True)]"
            ]
          },
          "metadata": {
            "tags": []
          },
          "execution_count": 91
        }
      ]
    },
    {
      "cell_type": "markdown",
      "metadata": {
        "id": "dmgZffElH-yV",
        "colab_type": "text"
      },
      "source": [
        "One final commit before we train the model."
      ]
    },
    {
      "cell_type": "code",
      "metadata": {
        "id": "lMk-fqefH-yW",
        "colab_type": "code",
        "colab": {}
      },
      "source": [
        "# jovian.commit(project=project_name, environment=None)"
      ],
      "execution_count": null,
      "outputs": []
    },
    {
      "cell_type": "markdown",
      "metadata": {
        "id": "vQccVsNKH-yh",
        "colab_type": "text"
      },
      "source": [
        "## Step 4: Train the model to fit the data\n",
        "\n",
        "To train our model, we'll use the same `fit` function explained in the lecture. That's the benefit of defining a generic training loop - you can use it for any problem."
      ]
    },
    {
      "cell_type": "code",
      "metadata": {
        "id": "-BGRcsjZH-yh",
        "colab_type": "code",
        "colab": {}
      },
      "source": [
        "def evaluate(model, val_loader):\n",
        "    outputs = [model.validation_step(batch) for batch in val_loader]\n",
        "    return model.validation_epoch_end(outputs)\n",
        "\n",
        "def fit(epochs, lr, model, train_loader, val_loader, opt_func=torch.optim.SGD):\n",
        "    history = []\n",
        "    optimizer = opt_func(model.parameters(), lr)\n",
        "    for epoch in range(epochs):\n",
        "        # Training Phase \n",
        "        for batch in train_loader:\n",
        "            loss = model.training_step(batch)\n",
        "            loss.backward()\n",
        "            optimizer.step()\n",
        "            optimizer.zero_grad()\n",
        "        # Validation phase\n",
        "        result = evaluate(model, val_loader)\n",
        "        model.epoch_end(epoch, result, epochs)\n",
        "        history.append(result)\n",
        "    return history"
      ],
      "execution_count": null,
      "outputs": []
    },
    {
      "cell_type": "markdown",
      "metadata": {
        "id": "7l_2X-UWH-yo",
        "colab_type": "text"
      },
      "source": [
        "**Q: Use the `evaluate` function to calculate the loss on the validation set before training.**"
      ]
    },
    {
      "cell_type": "code",
      "metadata": {
        "id": "LxWH1UzZH-ys",
        "colab_type": "code",
        "colab": {
          "base_uri": "https://localhost:8080/",
          "height": 33
        },
        "outputId": "5e4074aa-7b13-4091-ee11-cf1cd8af10c2"
      },
      "source": [
        "result = evaluate(model, val_loader) # Use the the evaluate function\n",
        "print(result)"
      ],
      "execution_count": null,
      "outputs": [
        {
          "output_type": "stream",
          "text": [
            "{'val_loss': 12657.783203125}\n"
          ],
          "name": "stdout"
        }
      ]
    },
    {
      "cell_type": "markdown",
      "metadata": {
        "id": "48o-FQXyH-yz",
        "colab_type": "text"
      },
      "source": [
        "\n",
        "We are now ready to train the model. You may need to run the training loop many times, for different number of epochs and with different learning rates, to get a good result. Also, if your loss becomes too large (or `nan`), you may have to re-initialize the model by running the cell `model = InsuranceModel()`. Experiment with this for a while, and try to get to as low a loss as possible."
      ]
    },
    {
      "cell_type": "markdown",
      "metadata": {
        "id": "aSFNX0fGH-y1",
        "colab_type": "text"
      },
      "source": [
        "**Q: Train the model 4-5 times with different learning rates & for different number of epochs.**\n",
        "\n",
        "Hint: Vary learning rates by orders of 10 (e.g. `1e-2`, `1e-3`, `1e-4`, `1e-5`, `1e-6`) to figure out what works."
      ]
    },
    {
      "cell_type": "code",
      "metadata": {
        "id": "8qnB4Fq5H-y3",
        "colab_type": "code",
        "colab": {
          "base_uri": "https://localhost:8080/",
          "height": 269
        },
        "outputId": "5ef59aae-909c-426d-cf27-ca03580efb9a"
      },
      "source": [
        "epochs = 300\n",
        "lr = 1e-2\n",
        "history1 = fit(epochs, lr, model, train_loader, val_loader)"
      ],
      "execution_count": null,
      "outputs": [
        {
          "output_type": "stream",
          "text": [
            "Epoch [20], val_loss: 7312.8467\n",
            "Epoch [40], val_loss: 6897.0781\n",
            "Epoch [60], val_loss: 6845.4961\n",
            "Epoch [80], val_loss: 6796.3232\n",
            "Epoch [100], val_loss: 6747.5078\n",
            "Epoch [120], val_loss: 6700.9727\n",
            "Epoch [140], val_loss: 6658.1338\n",
            "Epoch [160], val_loss: 6618.6958\n",
            "Epoch [180], val_loss: 6580.6870\n",
            "Epoch [200], val_loss: 6542.7065\n",
            "Epoch [220], val_loss: 6506.0811\n",
            "Epoch [240], val_loss: 6470.8677\n",
            "Epoch [260], val_loss: 6443.1680\n",
            "Epoch [280], val_loss: 6416.5093\n",
            "Epoch [300], val_loss: 6394.1011\n"
          ],
          "name": "stdout"
        }
      ]
    },
    {
      "cell_type": "code",
      "metadata": {
        "id": "x2daNAXJH-y_",
        "colab_type": "code",
        "colab": {
          "base_uri": "https://localhost:8080/",
          "height": 362
        },
        "outputId": "081a666c-014e-4370-fd74-15b9e62ab16a"
      },
      "source": [
        "losses = [r['val_loss'] for r in [result] + history1]\n",
        "plt.plot(losses, '-x')\n",
        "plt.xlabel('epoch')\n",
        "plt.ylabel('val_loss')\n",
        "plt.title('val_loss vs. epochs');"
      ],
      "execution_count": null,
      "outputs": [
        {
          "output_type": "display_data",
          "data": {
            "image/png": "[encoded data removed]",
            "text/plain": [
              "<Figure size 648x360 with 1 Axes>"
            ]
          },
          "metadata": {
            "tags": [],
            "needs_background": "light"
          }
        }
      ]
    },
    {
      "cell_type": "code",
      "metadata": {
        "id": "UqS4ljphH-zG",
        "colab_type": "code",
        "colab": {
          "base_uri": "https://localhost:8080/",
          "height": 269
        },
        "outputId": "ddcaa647-c02e-4143-dff0-0faa2c63978f"
      },
      "source": [
        "epochs = 300\n",
        "lr = 1e-3\n",
        "history2 = fit(epochs, lr, model, train_loader, val_loader)"
      ],
      "execution_count": null,
      "outputs": [
        {
          "output_type": "stream",
          "text": [
            "Epoch [20], val_loss: 6392.0537\n",
            "Epoch [40], val_loss: 6389.9937\n",
            "Epoch [60], val_loss: 6387.9951\n",
            "Epoch [80], val_loss: 6385.9521\n",
            "Epoch [100], val_loss: 6383.8950\n",
            "Epoch [120], val_loss: 6381.8613\n",
            "Epoch [140], val_loss: 6379.8892\n",
            "Epoch [160], val_loss: 6377.9795\n",
            "Epoch [180], val_loss: 6376.0879\n",
            "Epoch [200], val_loss: 6374.2012\n",
            "Epoch [220], val_loss: 6372.3276\n",
            "Epoch [240], val_loss: 6370.5039\n",
            "Epoch [260], val_loss: 6368.8193\n",
            "Epoch [280], val_loss: 6367.3296\n",
            "Epoch [300], val_loss: 6365.9580\n"
          ],
          "name": "stdout"
        }
      ]
    },
    {
      "cell_type": "code",
      "metadata": {
        "id": "U8Gz8vceH-zN",
        "colab_type": "code",
        "colab": {
          "base_uri": "https://localhost:8080/",
          "height": 362
        },
        "outputId": "b3f50cb8-30b3-4c7b-aed6-dfdc93d8d4cf"
      },
      "source": [
        "losses = [r['val_loss'] for r in [result] + history2]\n",
        "plt.plot(losses, '-x')\n",
        "plt.xlabel('epoch')\n",
        "plt.ylabel('val_loss')\n",
        "plt.title('val_loss vs. epochs');"
      ],
      "execution_count": null,
      "outputs": [
        {
          "output_type": "display_data",
          "data": {
            "image/png": "[encoded data removed]",
            "text/plain": [
              "<Figure size 648x360 with 1 Axes>"
            ]
          },
          "metadata": {
            "tags": [],
            "needs_background": "light"
          }
        }
      ]
    },
    {
      "cell_type": "code",
      "metadata": {
        "id": "Qo07XQKmH-zV",
        "colab_type": "code",
        "colab": {
          "base_uri": "https://localhost:8080/",
          "height": 269
        },
        "outputId": "01a76b05-6e0f-43b1-9d76-84bbcb051f21"
      },
      "source": [
        "epochs = 300\n",
        "lr = 1e-4\n",
        "history3 = fit(epochs, lr, model, train_loader, val_loader)"
      ],
      "execution_count": null,
      "outputs": [
        {
          "output_type": "stream",
          "text": [
            "Epoch [20], val_loss: 6365.8184\n",
            "Epoch [40], val_loss: 6365.6816\n",
            "Epoch [60], val_loss: 6365.5493\n",
            "Epoch [80], val_loss: 6365.4194\n",
            "Epoch [100], val_loss: 6365.2959\n",
            "Epoch [120], val_loss: 6365.1719\n",
            "Epoch [140], val_loss: 6365.0479\n",
            "Epoch [160], val_loss: 6364.9219\n",
            "Epoch [180], val_loss: 6364.8008\n",
            "Epoch [200], val_loss: 6364.6797\n",
            "Epoch [220], val_loss: 6364.5586\n",
            "Epoch [240], val_loss: 6364.4385\n",
            "Epoch [260], val_loss: 6364.3184\n",
            "Epoch [280], val_loss: 6364.1992\n",
            "Epoch [300], val_loss: 6364.0801\n"
          ],
          "name": "stdout"
        }
      ]
    },
    {
      "cell_type": "code",
      "metadata": {
        "id": "z1NsHqKhH-zd",
        "colab_type": "code",
        "colab": {
          "base_uri": "https://localhost:8080/",
          "height": 362
        },
        "outputId": "f1681be1-7ef2-4b17-ea3a-d323653244a0"
      },
      "source": [
        "losses = [r['val_loss'] for r in [result] + history3]\n",
        "plt.plot(losses, '-x')\n",
        "plt.xlabel('epoch')\n",
        "plt.ylabel('val_loss')\n",
        "plt.title('val_loss vs. epochs');"
      ],
      "execution_count": null,
      "outputs": [
        {
          "output_type": "display_data",
          "data": {
            "image/png": "[encoded data removed]",
            "text/plain": [
              "<Figure size 648x360 with 1 Axes>"
            ]
          },
          "metadata": {
            "tags": [],
            "needs_background": "light"
          }
        }
      ]
    },
    {
      "cell_type": "code",
      "metadata": {
        "id": "dPQkXXIqH-zj",
        "colab_type": "code",
        "colab": {
          "base_uri": "https://localhost:8080/",
          "height": 269
        },
        "outputId": "490673cb-7b05-4348-f8ed-21e63be2cd46"
      },
      "source": [
        "epochs = 300\n",
        "lr = 1e-5\n",
        "history4 = fit(epochs, lr, model, train_loader, val_loader)"
      ],
      "execution_count": null,
      "outputs": [
        {
          "output_type": "stream",
          "text": [
            "Epoch [20], val_loss: 6364.0688\n",
            "Epoch [40], val_loss: 6364.0562\n",
            "Epoch [60], val_loss: 6364.0444\n",
            "Epoch [80], val_loss: 6364.0327\n",
            "Epoch [100], val_loss: 6364.0210\n",
            "Epoch [120], val_loss: 6364.0093\n",
            "Epoch [140], val_loss: 6363.9976\n",
            "Epoch [160], val_loss: 6363.9849\n",
            "Epoch [180], val_loss: 6363.9736\n",
            "Epoch [200], val_loss: 6363.9624\n",
            "Epoch [220], val_loss: 6363.9497\n",
            "Epoch [240], val_loss: 6363.9375\n",
            "Epoch [260], val_loss: 6363.9258\n",
            "Epoch [280], val_loss: 6363.9146\n",
            "Epoch [300], val_loss: 6363.9028\n"
          ],
          "name": "stdout"
        }
      ]
    },
    {
      "cell_type": "code",
      "metadata": {
        "id": "WKnIlcjfH-zp",
        "colab_type": "code",
        "colab": {
          "base_uri": "https://localhost:8080/",
          "height": 362
        },
        "outputId": "f69470fa-c148-4144-c343-bda63bbb2df1"
      },
      "source": [
        "losses = [r['val_loss'] for r in [result] + history4]\n",
        "plt.plot(losses, '-x')\n",
        "plt.xlabel('epoch')\n",
        "plt.ylabel('val_loss')\n",
        "plt.title('val_loss vs. epochs');"
      ],
      "execution_count": null,
      "outputs": [
        {
          "output_type": "display_data",
          "data": {
            "image/png": "[encoded data removed]",
            "text/plain": [
              "<Figure size 648x360 with 1 Axes>"
            ]
          },
          "metadata": {
            "tags": [],
            "needs_background": "light"
          }
        }
      ]
    },
    {
      "cell_type": "markdown",
      "metadata": {
        "id": "Cav7QHurH-zz",
        "colab_type": "text"
      },
      "source": [
        "**Q: What is the final validation loss of your model?**"
      ]
    },
    {
      "cell_type": "code",
      "metadata": {
        "id": "Q3wzHRtZH-z0",
        "colab_type": "code",
        "colab": {}
      },
      "source": [
        "val_loss = 0"
      ],
      "execution_count": null,
      "outputs": []
    },
    {
      "cell_type": "markdown",
      "metadata": {
        "id": "NQPuUWQYH-z6",
        "colab_type": "text"
      },
      "source": [
        "Let's log the final validation loss to Jovian and commit the notebook"
      ]
    },
    {
      "cell_type": "code",
      "metadata": {
        "id": "YDRnv-6dH-z7",
        "colab_type": "code",
        "colab": {}
      },
      "source": [
        "# jovian.log_metrics(val_loss=val_loss)"
      ],
      "execution_count": null,
      "outputs": []
    },
    {
      "cell_type": "code",
      "metadata": {
        "id": "rNvyRf_uH-0H",
        "colab_type": "code",
        "colab": {}
      },
      "source": [
        "# jovian.commit(project=project_name, environment=None)"
      ],
      "execution_count": null,
      "outputs": []
    },
    {
      "cell_type": "markdown",
      "metadata": {
        "id": "gkIz0UnkH-0N",
        "colab_type": "text"
      },
      "source": [
        "Now scroll back up, re-initialize the model, and try different set of values for batch size, number of epochs, learning rate etc. Commit each experiment and use the \"Compare\" and \"View Diff\" options on Jovian to compare the different results."
      ]
    },
    {
      "cell_type": "markdown",
      "metadata": {
        "id": "_aa__RIuH-0X",
        "colab_type": "text"
      },
      "source": [
        "## Step 5: Make predictions using the trained model\n",
        "\n",
        "**Q: Complete the following function definition to make predictions on a single input**"
      ]
    },
    {
      "cell_type": "code",
      "metadata": {
        "id": "mc5nx1itH-0Y",
        "colab_type": "code",
        "colab": {}
      },
      "source": [
        "def predict_single(input, target, model):\n",
        "    inputs = input.unsqueeze(0)\n",
        "    predictions = model(inputs)          # fill this\n",
        "    prediction = predictions[0].detach()\n",
        "    print(\"Input:\", input)\n",
        "    print(\"Target:\", target)\n",
        "    print(\"Prediction:\", prediction)"
      ],
      "execution_count": null,
      "outputs": []
    },
    {
      "cell_type": "code",
      "metadata": {
        "id": "8ys19ppbH-0d",
        "colab_type": "code",
        "colab": {
          "base_uri": "https://localhost:8080/",
          "height": 67
        },
        "outputId": "0a6590d1-9906-498e-8aff-c9e69b299902"
      },
      "source": [
        "input, target = val_ds[0]\n",
        "predict_single(input, target, model)"
      ],
      "execution_count": null,
      "outputs": [
        {
          "output_type": "stream",
          "text": [
            "Input: tensor([61.0000,  0.0000, 33.3412,  0.0000,  0.0000])\n",
            "Target: tensor([13026.1641])\n",
            "Prediction: tensor([12234.5195])\n"
          ],
          "name": "stdout"
        }
      ]
    },
    {
      "cell_type": "code",
      "metadata": {
        "id": "049dDCguH-0o",
        "colab_type": "code",
        "colab": {
          "base_uri": "https://localhost:8080/",
          "height": 67
        },
        "outputId": "8559382c-f35d-42fb-f215-4c05362e3fbd"
      },
      "source": [
        "input, target = val_ds[10]\n",
        "predict_single(input, target, model)"
      ],
      "execution_count": null,
      "outputs": [
        {
          "output_type": "stream",
          "text": [
            "Input: tensor([19.0000,  1.0000, 36.8080,  0.0000,  0.0000])\n",
            "Target: tensor([1224.0032])\n",
            "Prediction: tensor([2799.2712])\n"
          ],
          "name": "stdout"
        }
      ]
    },
    {
      "cell_type": "code",
      "metadata": {
        "id": "jc8I48OiH-0v",
        "colab_type": "code",
        "colab": {
          "base_uri": "https://localhost:8080/",
          "height": 67
        },
        "outputId": "dfb1a8b6-3476-4513-c65e-dcec6125659f"
      },
      "source": [
        "input, target = val_ds[23]\n",
        "predict_single(input, target, model)"
      ],
      "execution_count": null,
      "outputs": [
        {
          "output_type": "stream",
          "text": [
            "Input: tensor([25.0000,  0.0000, 26.0010,  3.0000,  0.0000])\n",
            "Target: tensor([4259.9023])\n",
            "Prediction: tensor([4570.5571])\n"
          ],
          "name": "stdout"
        }
      ]
    },
    {
      "cell_type": "markdown",
      "metadata": {
        "id": "dNu4WkQxH-02",
        "colab_type": "text"
      },
      "source": [
        "Are you happy with your model's predictions? Try to improve them further."
      ]
    },
    {
      "cell_type": "markdown",
      "metadata": {
        "id": "qlUlDRpeH-03",
        "colab_type": "text"
      },
      "source": [
        "## (Optional) Step 6: Try another dataset & blog about it\n",
        "\n",
        "While this last step is optional for the submission of your assignment, we highly recommend that you do it. Try to clean up & replicate this notebook (or [this one](https://jovian.ml/aakashns/housing-linear-minimal), or [this one](https://jovian.ml/aakashns/mnist-logistic-minimal) ) for a different linear regression or logistic regression problem. This will help solidify your understanding, and give you a chance to differentiate the generic patters in machine learning from problem-specific details.\n",
        "\n",
        "Here are some sources to find good datasets:\n",
        "\n",
        "- https://lionbridge.ai/datasets/10-open-datasets-for-linear-regression/\n",
        "- https://www.kaggle.com/rtatman/datasets-for-regression-analysis\n",
        "- https://archive.ics.uci.edu/ml/datasets.php?format=&task=reg&att=&area=&numAtt=&numIns=&type=&sort=nameUp&view=table\n",
        "- https://people.sc.fsu.edu/~jburkardt/datasets/regression/regression.html\n",
        "- https://archive.ics.uci.edu/ml/datasets/wine+quality\n",
        "- https://pytorch.org/docs/stable/torchvision/datasets.html\n",
        "\n",
        "We also recommend that you write a blog about your approach to the problem. Here is a suggested structure for your post (feel free to experiment with it):\n",
        "\n",
        "- Interesting title & subtitle\n",
        "- Overview of what the blog covers (which dataset, linear regression or logistic regression, intro to PyTorch)\n",
        "- Downloading & exploring the data\n",
        "- Preparing the data for training\n",
        "- Creating a model using PyTorch\n",
        "- Training the model to fit the data\n",
        "- Your thoughts on how to experiment with different hyperparmeters to reduce loss\n",
        "- Making predictions using the model\n",
        "\n",
        "As with the previous assignment, you can [embed Juptyer notebook cells & outputs from Jovian](https://medium.com/jovianml/share-and-embed-jupyter-notebooks-online-with-jovian-ml-df709a03064e) into your blog. \n",
        "\n",
        "Don't forget to share your work on the forum: https://jovian.ml/forum/t/share-your-work-here-assignment-2/4931"
      ]
    },
    {
      "cell_type": "code",
      "metadata": {
        "id": "0vyWTAwWH-04",
        "colab_type": "code",
        "colab": {}
      },
      "source": [
        "# jovian.commit(project=project_name, environment=None)\n",
        "# jovian.commit(project=project_name, environment=None) # try again, kaggle fails sometimes"
      ],
      "execution_count": null,
      "outputs": []
    },
    {
      "cell_type": "code",
      "metadata": {
        "id": "UMJQbd9iKRnb",
        "colab_type": "code",
        "colab": {}
      },
      "source": [
        ""
      ],
      "execution_count": null,
      "outputs": []
    }
  ]
}